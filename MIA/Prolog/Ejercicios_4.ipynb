{
 "cells": [
  {
   "cell_type": "code",
   "execution_count": 1,
   "id": "7b82e66e-0a77-4f45-9159-8157836eb13e",
   "metadata": {},
   "outputs": [
    {
     "data": {
      "text/plain": [
       "% Asserting clauses for user:female/1\n"
      ]
     },
     "metadata": {},
     "output_type": "display_data"
    },
    {
     "data": {
      "text/plain": [
       "% Asserting clauses for user:male/1\n"
      ]
     },
     "metadata": {},
     "output_type": "display_data"
    },
    {
     "data": {
      "text/plain": [
       "% Asserting clauses for user:parent/2\n"
      ]
     },
     "metadata": {},
     "output_type": "display_data"
    }
   ],
   "source": [
    "% Hechos\n",
    "\n",
    "female(pam).\n",
    "female(liz).\n",
    "female(pat).\n",
    "female(ann).\n",
    "\n",
    "male(tom).\n",
    "male(bob).\n",
    "male(jim).\n",
    "\n",
    "parent(pam,bob).\n",
    "parent(tom,bob).\n",
    "parent(tom,liz).\n",
    "parent(bob,ann).\n",
    "parent(bob,pat)."
   ]
  },
  {
   "cell_type": "code",
   "execution_count": 2,
   "id": "5dff876c-926f-415c-ab89-b2130005e405",
   "metadata": {},
   "outputs": [
    {
     "data": {
      "text/plain": [
       "% Asserting clauses for user:mother/2\n"
      ]
     },
     "metadata": {},
     "output_type": "display_data"
    },
    {
     "data": {
      "text/plain": [
       "% Asserting clauses for user:grandparent/2\n"
      ]
     },
     "metadata": {},
     "output_type": "display_data"
    },
    {
     "data": {
      "text/plain": [
       "% Asserting clauses for user:sister/2\n"
      ]
     },
     "metadata": {},
     "output_type": "display_data"
    }
   ],
   "source": [
    "% Reglas\n",
    "\n",
    "mother(X,Y) :- \n",
    "        parent(X,Y),\n",
    "        female(X).\n",
    "\n",
    "grandparent(X,Z) :- \n",
    "        parent(X,Y),\n",
    "        parent(Y,Z).\n",
    "\n",
    "sister(X,Y) :-  \n",
    "          parent(Z,X),\n",
    "          parent(Z,Y),\n",
    "          female(X),\n",
    "          X \\= Y."
   ]
  },
  {
   "cell_type": "markdown",
   "id": "41a9a341-1544-4bc1-917e-fa0a3c2201fa",
   "metadata": {},
   "source": [
    "Explica como hace Prolog para encontrar la solución a las siguientes cuestiones"
   ]
  },
  {
   "cell_type": "code",
   "execution_count": 5,
   "id": "a390ff51-2e32-4ca4-a07b-5009a4933f98",
   "metadata": {},
   "outputs": [
    {
     "data": {
      "text/plain": [
       "   Call: (44) parent(pam, bob)\n",
       "   Exit: (44) parent(pam, bob)"
      ]
     },
     "metadata": {},
     "output_type": "display_data"
    },
    {
     "data": {
      "text/plain": [
       "\u001b[1mtrue"
      ]
     },
     "metadata": {},
     "output_type": "display_data"
    }
   ],
   "source": [
    "jupyter:trace(parent(pam, bob))."
   ]
  },
  {
   "cell_type": "code",
   "execution_count": 6,
   "id": "9b8d6e2b-2bfb-48b4-a3d3-9419945885a2",
   "metadata": {},
   "outputs": [
    {
     "data": {
      "text/plain": [
       "   Call: (52) mother(pam, bob)\n",
       "   Call: (53) parent(pam, bob)\n",
       "   Exit: (53) parent(pam, bob)\n",
       "   Call: (53) female(pam)\n",
       "   Exit: (53) female(pam)\n",
       "   Exit: (52) mother(pam, bob)"
      ]
     },
     "metadata": {},
     "output_type": "display_data"
    },
    {
     "data": {
      "text/plain": [
       "\u001b[1mtrue"
      ]
     },
     "metadata": {},
     "output_type": "display_data"
    }
   ],
   "source": [
    "jupyter:trace(mother(pam, bob))."
   ]
  },
  {
   "cell_type": "code",
   "execution_count": 7,
   "id": "ae0ec108-ff8d-41c3-96ef-9c61050ef9f6",
   "metadata": {},
   "outputs": [
    {
     "data": {
      "text/plain": [
       "   Call: (60) grandparent(pam, ann)\n",
       "   Call: (61) parent(pam, _49126)\n",
       "   Exit: (61) parent(pam, bob)\n",
       "   Call: (61) parent(bob, ann)\n",
       "   Exit: (61) parent(bob, ann)\n",
       "   Exit: (60) grandparent(pam, ann)"
      ]
     },
     "metadata": {},
     "output_type": "display_data"
    },
    {
     "data": {
      "text/plain": [
       "\u001b[1mtrue"
      ]
     },
     "metadata": {},
     "output_type": "display_data"
    }
   ],
   "source": [
    "jupyter:trace(grandparent(pam, ann))."
   ]
  },
  {
   "cell_type": "code",
   "execution_count": 8,
   "id": "33e7243d-b654-4bfa-976b-a7bea8bc6045",
   "metadata": {},
   "outputs": [
    {
     "data": {
      "text/plain": [
       "   Call: (68) grandparent(bob, jim)\n",
       "   Call: (69) parent(bob, _57506)\n",
       "   Exit: (69) parent(bob, ann)\n",
       "   Call: (69) parent(ann, jim)\n",
       "   Fail: (69) parent(ann, jim)\n",
       "   Redo: (69) parent(bob, _57506)\n",
       "   Exit: (69) parent(bob, pat)\n",
       "   Call: (69) parent(pat, jim)\n",
       "   Fail: (69) parent(pat, jim)\n",
       "   Fail: (68) grandparent(bob, jim)\n",
       "   Redo: (67) jupyter:trace(grandparent(bob, jim))"
      ]
     },
     "metadata": {},
     "output_type": "display_data"
    },
    {
     "data": {
      "text/plain": [
       "\u001b[1mtrue"
      ]
     },
     "metadata": {},
     "output_type": "display_data"
    }
   ],
   "source": [
    "jupyter:trace(grandparent(bob, jim))."
   ]
  },
  {
   "cell_type": "markdown",
   "id": "a32b0d2b-1007-4dcd-9ce3-240cb5758567",
   "metadata": {},
   "source": [
    "Prolog mostrará información detallada sobre cómo intenta demostrar cada uno de los anteriores. \n",
    "Esto incluirá qué reglas o hechos están siendo utilizados, cómo se están unificando las variables, \n",
    "y cómo se sigue el flujo de control para llegar a una conclusión."
   ]
  }
 ],
 "metadata": {
  "kernelspec": {
   "display_name": "Prolog",
   "language": "prolog",
   "name": "prolog_kernel"
  },
  "language_info": {
   "codemirror_mode": "prolog",
   "file_extension": ".pl",
   "mimetype": "text/x-prolog",
   "name": "Prolog"
  }
 },
 "nbformat": 4,
 "nbformat_minor": 5
}
