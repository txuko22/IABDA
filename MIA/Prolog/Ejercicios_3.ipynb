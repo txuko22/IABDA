{
 "cells": [
  {
   "cell_type": "code",
   "execution_count": 1,
   "id": "9f937f08-a1ed-4d9e-93f0-8289a6408821",
   "metadata": {},
   "outputs": [
    {
     "data": {
      "text/plain": [
       "% Asserting clauses for user:female/1\n"
      ]
     },
     "metadata": {},
     "output_type": "display_data"
    },
    {
     "data": {
      "text/plain": [
       "% Asserting clauses for user:male/1\n"
      ]
     },
     "metadata": {},
     "output_type": "display_data"
    },
    {
     "data": {
      "text/plain": [
       "% Asserting clauses for user:parent/2\n"
      ]
     },
     "metadata": {},
     "output_type": "display_data"
    }
   ],
   "source": [
    "% Hechos\n",
    "\n",
    "female(pam).\n",
    "female(liz).\n",
    "female(pat).\n",
    "female(ann).\n",
    "\n",
    "male(tom).\n",
    "male(bob).\n",
    "male(jim).\n",
    "\n",
    "parent(pam,bob).\n",
    "parent(tom,bob).\n",
    "parent(tom,liz).\n",
    "parent(bob,ann).\n",
    "parent(bob,pat).\n",
    "parent(pat,jim)."
   ]
  },
  {
   "cell_type": "code",
   "execution_count": 2,
   "id": "96657950-3a6f-41c1-9e03-5511f919e8ee",
   "metadata": {},
   "outputs": [
    {
     "data": {
      "text/plain": [
       "% Asserting clauses for user:mother/2\n"
      ]
     },
     "metadata": {},
     "output_type": "display_data"
    },
    {
     "data": {
      "text/plain": [
       "% Asserting clauses for user:grandparent/2\n"
      ]
     },
     "metadata": {},
     "output_type": "display_data"
    },
    {
     "data": {
      "text/plain": [
       "% Asserting clauses for user:sister/2\n"
      ]
     },
     "metadata": {},
     "output_type": "display_data"
    }
   ],
   "source": [
    "% Reglas\n",
    "\n",
    "mother(X,Y) :- \n",
    "        parent(X,Y),\n",
    "        female(X).\n",
    "\n",
    "grandparent(X,Z) :- \n",
    "        parent(X,Y),\n",
    "        parent(Y,Z).\n",
    "\n",
    "sister(X,Y) :-  \n",
    "          parent(Z,X),\n",
    "          parent(Z,Y),\n",
    "          female(X),\n",
    "          X \\= Y."
   ]
  },
  {
   "cell_type": "raw",
   "id": "bc972292-6fb9-4fff-9e46-b9ae85a48118",
   "metadata": {},
   "source": []
  },
  {
   "cell_type": "markdown",
   "id": "e69ad94c-5aa1-481e-84e0-5c0fa8900c1c",
   "metadata": {},
   "source": [
    "Toda persona que tiene un hijo/a es feliz"
   ]
  },
  {
   "cell_type": "code",
   "execution_count": 3,
   "id": "683a883a-5168-4f23-8831-2c01d602cddd",
   "metadata": {},
   "outputs": [
    {
     "data": {
      "text/plain": [
       "% Asserting clauses for user:happy/1\n"
      ]
     },
     "metadata": {},
     "output_type": "display_data"
    }
   ],
   "source": [
    "happy(X) :- parent(X, _); mother(X, _)."
   ]
  },
  {
   "cell_type": "code",
   "execution_count": null,
   "id": "99999aad-56cc-4b60-8478-c78bdd6485b8",
   "metadata": {},
   "outputs": [],
   "source": []
  },
  {
   "cell_type": "markdown",
   "id": "6d4c3121-0378-49c8-ac80-b857308fbc21",
   "metadata": {},
   "source": [
    "Para todo X, si X tiene un hijo/a que tiene una hermana, entonces X tiene dos hijos/as."
   ]
  },
  {
   "cell_type": "code",
   "execution_count": 4,
   "id": "5f9861cc-a8a2-451c-8540-ba8076eee28a",
   "metadata": {},
   "outputs": [
    {
     "data": {
      "text/plain": [
       "% Asserting clauses for user:hasTwoChildren/1\n"
      ]
     },
     "metadata": {},
     "output_type": "display_data"
    }
   ],
   "source": [
    "hasTwoChildren(X) :- parent(X, Y), sister(Y, _)."
   ]
  },
  {
   "cell_type": "code",
   "execution_count": null,
   "id": "dcd67207-6e27-46d3-9cda-feb56b1ac48c",
   "metadata": {},
   "outputs": [],
   "source": []
  },
  {
   "cell_type": "markdown",
   "id": "feb7cbb6-afe6-4588-a504-c0b71102b370",
   "metadata": {},
   "source": [
    "Relación nieto usando la relación padre"
   ]
  },
  {
   "cell_type": "code",
   "execution_count": 7,
   "id": "e8703ea5-cd17-4264-b6bf-e37bc94aeca5",
   "metadata": {},
   "outputs": [
    {
     "data": {
      "text/html": [
       "\n",
       "            <style>\n",
       "            details  {\n",
       "              font-family: Menlo, Consolas, 'DejaVu Sans Mono', monospace; font-size: 13px;\n",
       "            }\n",
       "\n",
       "            details > summary {\n",
       "              cursor: pointer;\n",
       "            }\n",
       "            </style>\n",
       "            <details><summary>Previously defined clauses of user:grandchild/2 were retracted (click to expand)</summary><pre>:- dynamic grandchild/2.\n",
       "\n",
       "grandchild(A, B) :-\n",
       "    parent(_, B),\n",
       "    parent(B, A).\n",
       "</pre></details>"
      ],
      "text/plain": [
       "Previously defined clauses of user:grandchild/2 were retracted:\n",
       ":- dynamic grandchild/2.\n",
       "\n",
       "grandchild(A, B) :-\n",
       "    parent(_, B),\n",
       "    parent(B, A).\n"
      ]
     },
     "metadata": {
      "application/json": {}
     },
     "output_type": "display_data"
    },
    {
     "data": {
      "text/plain": [
       "% Asserting clauses for user:grandchild/2\n"
      ]
     },
     "metadata": {},
     "output_type": "display_data"
    }
   ],
   "source": [
    "grandchild(X, Y) :- parent(Y, Z), parent(Z, X)."
   ]
  },
  {
   "cell_type": "code",
   "execution_count": null,
   "id": "826220a1-0719-425c-81ae-f4794c074088",
   "metadata": {},
   "outputs": [],
   "source": []
  },
  {
   "cell_type": "markdown",
   "id": "1149b205-39ce-485d-b431-123b0efd33d2",
   "metadata": {},
   "source": [
    "Relación tía en términos de la relación padre y hermana"
   ]
  },
  {
   "cell_type": "code",
   "execution_count": 9,
   "id": "fce8218c-69e9-4b68-af3a-c3010b65ec2a",
   "metadata": {},
   "outputs": [
    {
     "data": {
      "text/plain": [
       "% Asserting clauses for user:aunt/2\n"
      ]
     },
     "metadata": {},
     "output_type": "display_data"
    }
   ],
   "source": [
    "aunt(X, Y) :- parent(Z, Y), sister(X, Z)."
   ]
  }
 ],
 "metadata": {
  "kernelspec": {
   "display_name": "Prolog",
   "language": "prolog",
   "name": "prolog_kernel"
  },
  "language_info": {
   "codemirror_mode": "prolog",
   "file_extension": ".pl",
   "mimetype": "text/x-prolog",
   "name": "Prolog"
  }
 },
 "nbformat": 4,
 "nbformat_minor": 5
}
