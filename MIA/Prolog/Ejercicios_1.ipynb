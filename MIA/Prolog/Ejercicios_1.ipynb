{
 "cells": [
  {
   "cell_type": "code",
   "execution_count": 3,
   "id": "c29a0626-ecc9-42ca-a7d0-fc41c8c3b4aa",
   "metadata": {},
   "outputs": [
    {
     "data": {
      "text/html": [
       "\n",
       "            <style>\n",
       "            details  {\n",
       "              font-family: Menlo, Consolas, 'DejaVu Sans Mono', monospace; font-size: 13px;\n",
       "            }\n",
       "\n",
       "            details > summary {\n",
       "              cursor: pointer;\n",
       "            }\n",
       "            </style>\n",
       "            <details><summary>Previously defined clauses of user:parent/2 were retracted (click to expand)</summary><pre>:- dynamic parent/2.\n",
       "\n",
       "parent(pam, bob).\n",
       "parent(tom, bob).\n",
       "parent(tom, liz).\n",
       "parent(bob, ann).\n",
       "parent(bob, pat).\n",
       "parent(pat, jim).\n",
       "</pre></details>"
      ],
      "text/plain": [
       "Previously defined clauses of user:parent/2 were retracted:\n",
       ":- dynamic parent/2.\n",
       "\n",
       "parent(pam, bob).\n",
       "parent(tom, bob).\n",
       "parent(tom, liz).\n",
       "parent(bob, ann).\n",
       "parent(bob, pat).\n",
       "parent(pat, jim).\n"
      ]
     },
     "metadata": {
      "application/json": {}
     },
     "output_type": "display_data"
    },
    {
     "data": {
      "text/plain": [
       "% Asserting clauses for user:parent/2\n"
      ]
     },
     "metadata": {},
     "output_type": "display_data"
    }
   ],
   "source": [
    "% Hechos\n",
    "\n",
    "parent(pam,bob).\n",
    "parent(tom,bob).\n",
    "parent(tom,liz).\n",
    "parent(bob,ann).\n",
    "parent(bob,pat).\n",
    "parent(pat,jim)."
   ]
  },
  {
   "cell_type": "code",
   "execution_count": null,
   "id": "dbb24b4d-54a7-40c0-b8b9-3aa8129101c1",
   "metadata": {},
   "outputs": [],
   "source": []
  },
  {
   "cell_type": "markdown",
   "id": "e1a2b720-9bbf-4687-addd-649a651aabdc",
   "metadata": {},
   "source": [
    "¿Quién es el padre de Pat?"
   ]
  },
  {
   "cell_type": "code",
   "execution_count": 6,
   "id": "33665f11-fe90-4a42-b7fc-d56231df240d",
   "metadata": {},
   "outputs": [
    {
     "data": {
      "text/plain": [
       "\u001b[1mX = bob"
      ]
     },
     "metadata": {},
     "output_type": "display_data"
    }
   ],
   "source": [
    "?- parent(X, pat)."
   ]
  },
  {
   "cell_type": "code",
   "execution_count": null,
   "id": "478fdb6e-6568-46f9-bea5-eea43b18fb8d",
   "metadata": {},
   "outputs": [],
   "source": []
  },
  {
   "cell_type": "markdown",
   "id": "c81e469e-2543-4bf9-a65b-fa2099bb2d0b",
   "metadata": {},
   "source": [
    "¿Liz tiene un hijo/a?"
   ]
  },
  {
   "cell_type": "code",
   "execution_count": null,
   "id": "70ed4dd4-7356-4596-843c-e362e4ddf449",
   "metadata": {},
   "outputs": [
    {
     "data": {
      "text/plain": [
       "\u001b[1;31mfalse"
      ]
     },
     "metadata": {},
     "output_type": "display_data"
    }
   ],
   "source": [
    "?- parent(liz, X)."
   ]
  },
  {
   "cell_type": "code",
   "execution_count": null,
   "id": "3d5e78c3-f7a7-45be-badf-c0095832618e",
   "metadata": {},
   "outputs": [],
   "source": []
  },
  {
   "cell_type": "markdown",
   "id": "cbaed9f0-7e8e-4d46-8f39-cbc8ccea0d7f",
   "metadata": {},
   "source": [
    "¿Quién es el abuelo/a de Pat?"
   ]
  },
  {
   "cell_type": "code",
   "execution_count": 8,
   "id": "1aaf55fb-b640-4de3-909e-f6fbd50153ae",
   "metadata": {},
   "outputs": [
    {
     "data": {
      "text/plain": [
       "\u001b[1mX = bob,\n",
       "Y = pam"
      ]
     },
     "metadata": {},
     "output_type": "display_data"
    }
   ],
   "source": [
    "?- parent(X, pat), parent(Y, X)."
   ]
  },
  {
   "cell_type": "code",
   "execution_count": 9,
   "id": "0b7fdf65-43c7-459f-b5a5-946eb73e1a30",
   "metadata": {},
   "outputs": [
    {
     "data": {
      "text/plain": [
       "% Retrying goal: parent(X,pat),parent(Y,X)\n"
      ]
     },
     "metadata": {},
     "output_type": "display_data"
    },
    {
     "data": {
      "text/plain": [
       "\u001b[1mX = bob,\n",
       "Y = tom"
      ]
     },
     "metadata": {},
     "output_type": "display_data"
    }
   ],
   "source": [
    "?- retry."
   ]
  },
  {
   "cell_type": "code",
   "execution_count": null,
   "id": "26123724-416d-454e-98f6-04bb80d8ef88",
   "metadata": {},
   "outputs": [
    {
     "data": {
      "text/plain": [
       "% Retrying goal: parent(X,pat),parent(Y,X)\n"
      ]
     },
     "metadata": {},
     "output_type": "display_data"
    },
    {
     "data": {
      "text/plain": [
       "\u001b[1;31mfalse"
      ]
     },
     "metadata": {},
     "output_type": "display_data"
    }
   ],
   "source": [
    "?- retry."
   ]
  }
 ],
 "metadata": {
  "kernelspec": {
   "display_name": "IA_3.11",
   "language": "python",
   "name": "python3"
  },
  "language_info": {
   "codemirror_mode": "prolog",
   "file_extension": ".pl",
   "mimetype": "text/x-prolog",
   "name": "python",
   "version": "3.11.7"
  }
 },
 "nbformat": 4,
 "nbformat_minor": 5
}
