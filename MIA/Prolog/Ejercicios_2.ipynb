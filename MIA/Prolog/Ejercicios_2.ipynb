{
 "cells": [
  {
   "cell_type": "code",
   "execution_count": 1,
   "id": "033ab46f-bc54-4b06-8297-b9ee6952ffe0",
   "metadata": {},
   "outputs": [
    {
     "data": {
      "text/plain": [
       "% Asserting clauses for user:female/1\n"
      ]
     },
     "metadata": {},
     "output_type": "display_data"
    },
    {
     "data": {
      "text/plain": [
       "% Asserting clauses for user:male/1\n"
      ]
     },
     "metadata": {},
     "output_type": "display_data"
    },
    {
     "data": {
      "text/plain": [
       "% Asserting clauses for user:parent/2\n"
      ]
     },
     "metadata": {},
     "output_type": "display_data"
    }
   ],
   "source": [
    "% Hechos\n",
    "\n",
    "female(pam).\n",
    "female(liz).\n",
    "female(pat).\n",
    "female(ann).\n",
    "\n",
    "male(tom).\n",
    "male(bob).\n",
    "male(jim).\n",
    "\n",
    "parent(pam,bob).\n",
    "parent(tom,bob).\n",
    "parent(tom,liz).\n",
    "parent(bob,ann).\n",
    "parent(bob,pat).\n",
    "parent(pat,jim)."
   ]
  },
  {
   "cell_type": "code",
   "execution_count": null,
   "id": "14938d25-87ea-4c3d-be8a-f8ed4373fb7b",
   "metadata": {},
   "outputs": [],
   "source": []
  },
  {
   "cell_type": "markdown",
   "id": "2fe3cc64-5ee3-4610-9aa7-60667ba48e4e",
   "metadata": {},
   "source": [
    "Relación madre"
   ]
  },
  {
   "cell_type": "code",
   "execution_count": 5,
   "id": "4f3b9fbf-eee7-4b27-b0f3-7c3ad549d409",
   "metadata": {},
   "outputs": [
    {
     "data": {
      "text/html": [
       "\n",
       "            <style>\n",
       "            details  {\n",
       "              font-family: Menlo, Consolas, 'DejaVu Sans Mono', monospace; font-size: 13px;\n",
       "            }\n",
       "\n",
       "            details > summary {\n",
       "              cursor: pointer;\n",
       "            }\n",
       "            </style>\n",
       "            <details><summary>Previously defined clauses of user:mother/2 were retracted (click to expand)</summary><pre>:- dynamic mother/2.\n",
       "\n",
       "mother(A, B) :-\n",
       "    parent(A, B),\n",
       "    female(A).\n",
       "</pre></details>"
      ],
      "text/plain": [
       "Previously defined clauses of user:mother/2 were retracted:\n",
       ":- dynamic mother/2.\n",
       "\n",
       "mother(A, B) :-\n",
       "    parent(A, B),\n",
       "    female(A).\n"
      ]
     },
     "metadata": {
      "application/json": {}
     },
     "output_type": "display_data"
    },
    {
     "data": {
      "text/plain": [
       "% Asserting clauses for user:mother/2\n"
      ]
     },
     "metadata": {},
     "output_type": "display_data"
    }
   ],
   "source": [
    "mother(X, Y) :- parent(X, Y), female(X)"
   ]
  },
  {
   "cell_type": "code",
   "execution_count": null,
   "id": "4818aec5-716f-484a-8e7c-ebfcb1d8ad1d",
   "metadata": {},
   "outputs": [],
   "source": []
  },
  {
   "cell_type": "markdown",
   "id": "075da086-8c7b-46b4-8677-872e4e8f56fb",
   "metadata": {},
   "source": [
    "Relación abuelo"
   ]
  },
  {
   "cell_type": "code",
   "execution_count": 6,
   "id": "04cc7a70-92d4-454c-be7c-5040ffb61de2",
   "metadata": {},
   "outputs": [
    {
     "data": {
      "text/plain": [
       "% Asserting clauses for user:grandparent/2\n"
      ]
     },
     "metadata": {},
     "output_type": "display_data"
    }
   ],
   "source": [
    "grandparent(X, Z) :- parent(X, Y), parent(Y, Z). "
   ]
  },
  {
   "cell_type": "code",
   "execution_count": null,
   "id": "2c602ee9-b8ba-40c5-988b-5d6466dc19c1",
   "metadata": {},
   "outputs": [],
   "source": []
  },
  {
   "cell_type": "markdown",
   "id": "db0cc918-7e75-4c52-aba1-df36df3b02cf",
   "metadata": {},
   "source": [
    "Relación hermana"
   ]
  },
  {
   "cell_type": "code",
   "execution_count": 7,
   "id": "7db9c729-b80b-4b7a-a644-31ec18c1912b",
   "metadata": {},
   "outputs": [
    {
     "data": {
      "text/plain": [
       "% Asserting clauses for user:sister/2\n"
      ]
     },
     "metadata": {},
     "output_type": "display_data"
    }
   ],
   "source": [
    "sister(X,Y) :- parent(Z, X), parent(Z, Y), female(X)."
   ]
  }
 ],
 "metadata": {
  "kernelspec": {
   "display_name": "Prolog",
   "language": "prolog",
   "name": "prolog_kernel"
  },
  "language_info": {
   "codemirror_mode": "prolog",
   "file_extension": ".pl",
   "mimetype": "text/x-prolog",
   "name": "Prolog"
  }
 },
 "nbformat": 4,
 "nbformat_minor": 5
}
