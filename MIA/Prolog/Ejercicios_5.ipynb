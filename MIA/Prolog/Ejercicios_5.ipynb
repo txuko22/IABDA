{
 "cells": [
  {
   "cell_type": "markdown",
   "id": "6d558791-614d-448a-ae05-48840dd4332b",
   "metadata": {},
   "source": [
    "1. Haz una propuesta de representación de círculos, rectángulos y cuadrados como objetos Prolog estructurados. Usa una aproximación similar a la que se provee."
   ]
  },
  {
   "cell_type": "code",
   "execution_count": 1,
   "id": "50825023-3830-4805-99f8-0d46d664a271",
   "metadata": {},
   "outputs": [
    {
     "data": {
      "text/plain": [
       "% Asserting clauses for user:circulo/1\n"
      ]
     },
     "metadata": {},
     "output_type": "display_data"
    },
    {
     "data": {
      "text/plain": [
       "% Asserting clauses for user:rectangulo/4\n"
      ]
     },
     "metadata": {},
     "output_type": "display_data"
    },
    {
     "data": {
      "text/plain": [
       "% Asserting clauses for user:cuadrado/4\n"
      ]
     },
     "metadata": {},
     "output_type": "display_data"
    }
   ],
   "source": [
    "circulo(r).\n",
    "rectangulo(punto(X1, Y1), punto(X2, Y1), punto(X2, Y2), punto(X1, Y2)). \n",
    "cuadrado(punto(X1, Y1), punto(X2, Y1), punto(X2, Y2), punto(X1, Y2)) :-\n",
    "    X2 - X1 =:= Y2 - Y1."
   ]
  },
  {
   "cell_type": "markdown",
   "id": "1aeb8e37-c2fa-4669-9c27-8509019638f4",
   "metadata": {},
   "source": [
    "2. Las siguientes operaciones de emparejamiento (matching), ¿tendrán éxito o fracasarán?. En caso de éxito, indica la instanciación de las variables."
   ]
  },
  {
   "cell_type": "code",
   "execution_count": 2,
   "id": "48af5069-ebdd-4d75-912e-28cf074847af",
   "metadata": {},
   "outputs": [
    {
     "data": {
      "text/plain": [
       "\u001b[1mA = 1,\n",
       "B = 2"
      ]
     },
     "metadata": {},
     "output_type": "display_data"
    }
   ],
   "source": [
    "punto(A,B) = punto(1,2)."
   ]
  },
  {
   "cell_type": "code",
   "execution_count": null,
   "id": "0ae2d0ee-21b0-4a85-a7d5-9a1bf8ece54c",
   "metadata": {},
   "outputs": [
    {
     "data": {
      "text/plain": [
       "\u001b[1;31mfalse"
      ]
     },
     "metadata": {},
     "output_type": "display_data"
    }
   ],
   "source": [
    "punto(A,B) = punto(X,Y,Z)."
   ]
  },
  {
   "cell_type": "code",
   "execution_count": 4,
   "id": "0c422680-5cb3-4a75-be04-4b3a80f782c3",
   "metadata": {},
   "outputs": [
    {
     "data": {
      "text/plain": [
       "\u001b[1mP2 = punto(1,0),\n",
       "P3 = punto(0,Y),\n",
       "P1 = punto(-1,0)"
      ]
     },
     "metadata": {},
     "output_type": "display_data"
    }
   ],
   "source": [
    "triangulo(punto(-1,0), P2, P3) = triangulo(P1, punto(1,0), punto(0,Y))."
   ]
  },
  {
   "cell_type": "markdown",
   "id": "7fe79dbb-7b61-4b5a-99c5-0ff5b539ba83",
   "metadata": {},
   "source": [
    "3. El programa que aparece a continuación indica que dos personas son parientes si:\n",
    " - uno es predecesor del otro \n",
    " - tienen un predecesor en común\n",
    " - tienen un sucesor en común.\n",
    "\n",
    "¿Se podría acortar el programa usando una notación con punto y coma? ¿Cómo?"
   ]
  },
  {
   "cell_type": "code",
   "execution_count": 5,
   "id": "641e8afd-1b13-4fc2-a45d-0a593d4ae0d5",
   "metadata": {},
   "outputs": [
    {
     "data": {
      "text/plain": [
       "% Asserting clauses for user:parientes/2\n"
      ]
     },
     "metadata": {},
     "output_type": "display_data"
    }
   ],
   "source": [
    "parientes(X, Y) :- predecesor(X, Y). \n",
    "parientes(X, Y) :- predecesor(Y, X). \n",
    "parientes(X, Y) :-\n",
    "    predecesor(Z, X),\n",
    "    predecesor(Z, Y).\n",
    "parientes(X, Y) :-\n",
    "    predecesor(X, Z),\n",
    "    predecesor(Y, Z)."
   ]
  },
  {
   "cell_type": "code",
   "execution_count": 6,
   "id": "010734f5-9de3-4ec7-9191-542a57eaf701",
   "metadata": {},
   "outputs": [
    {
     "data": {
      "text/plain": [
       "% Asserting clauses for user:parientes_or/2\n"
      ]
     },
     "metadata": {},
     "output_type": "display_data"
    }
   ],
   "source": [
    "parientes_or(X, Y) :- \n",
    "        predecesor(X, Y);\n",
    "        predecesor(Y, X);\n",
    "        predecesor(Z, X),\n",
    "        predecesor(Z, Y);\n",
    "        predecesor(X, Z),\n",
    "        predecesor(Y, Z)."
   ]
  }
 ],
 "metadata": {
  "kernelspec": {
   "display_name": "Prolog",
   "language": "prolog",
   "name": "prolog_kernel"
  },
  "language_info": {
   "codemirror_mode": "prolog",
   "file_extension": ".pl",
   "mimetype": "text/x-prolog",
   "name": "Prolog"
  }
 },
 "nbformat": 4,
 "nbformat_minor": 5
}
